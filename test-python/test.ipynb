{
 "cells": [
  {
   "cell_type": "markdown",
   "metadata": {},
   "source": [
    "Question 01: File Analysis and Word Search \n",
    "\n",
    "Instructions: \n",
    "1. Write a Python function named analyze_file that takes the name of a file as input and returns a dictionary containing the counts of characters, words, and lines in that file.\n",
    "2. Write another Python function named search_word that takes the name of a file and a word as input and returns the count of occurrences of that word in the file. \n",
    "3. Ensure that your functions handle file not found errors gracefully and return appropriate values in such cases. "
   ]
  },
  {
   "cell_type": "code",
   "execution_count": 50,
   "metadata": {},
   "outputs": [
    {
     "name": "stdout",
     "output_type": "stream",
     "text": [
      "{'characters': 0, 'words': 0, 'lines': 0, 'error': 'File not found'}\n",
      "File not found\n"
     ]
    }
   ],
   "source": [
    "def analyze_file(file_name):\n",
    "    try:\n",
    "        with open(file_name, 'r') as f:\n",
    "            data0 = f.read()\n",
    "            char_count = len(data0)\n",
    "            word_count = len(data0.split())\n",
    "            line_count = len(data0.splitlines())\n",
    "        return {'Characters': char_count, 'Words': word_count, 'Lines': line_count}\n",
    "    except FileNotFoundError:\n",
    "        return {'characters': 0, 'words': 0, 'lines': 0, 'error': 'File not found'}\n",
    "\n",
    "def search_word(file_name, word):\n",
    "    try:\n",
    "        with open(file_name, 'r') as f:\n",
    "            data0 = f.read()\n",
    "        return data0.split().count(word)\n",
    "    except FileNotFoundError:\n",
    "        return 'File not found'\n",
    "\n",
    "# Example i'm using here:\n",
    "file_name = 'example.txt'\n",
    "word_to_search = 'Python'\n",
    "\n",
    "# Analyzeing\n",
    "print(analyze_file(file_name))\n",
    "\n",
    "# we search here word\n",
    "print(search_word(file_name, word_to_search))\n"
   ]
  },
  {
   "cell_type": "markdown",
   "metadata": {},
   "source": []
  },
  {
   "cell_type": "markdown",
   "metadata": {},
   "source": [
    "Problem Statement: \n",
    "Create a simplified Library Management System with Python classes that represent a Library, Books, and Users. Your goal is to design the system so that it enables basic functionalities, including adding and managing books, registering users, and borrowing/returning books. "
   ]
  },
  {
   "cell_type": "code",
   "execution_count": 51,
   "metadata": {},
   "outputs": [],
   "source": [
    "class Book():\n",
    "    def __init__(self, title : str, author : str, isbn : str):\n",
    "        self.title = title\n",
    "        self.author = author\n",
    "        self.isbn = isbn\n",
    "        self.is_borrowed = False\n",
    "\n",
    "    def borrow(self):\n",
    "        if not self.is_borrowed:\n",
    "            self.is_borrowed = True\n",
    "        else:\n",
    "            print(\"This book is already borrowed.\")\n",
    "\n",
    "    def return_book(self):\n",
    "        if self.is_borrowed:\n",
    "            self.is_borrowed = False\n",
    "        else:\n",
    "            print(\"This book was not borrowed.\")\n",
    "\n",
    "class DigitalBook(Book):\n",
    "    def __init__(self, title, author, isbn, file_format : str):\n",
    "        super().__init__(title, author, isbn)\n",
    "        self.file_format = file_format\n",
    "\n",
    "    def borrow(self):\n",
    "        super().borrow()\n",
    "        if self.is_borrowed:\n",
    "            print(\"This digital book can be accessed online in {} format.\".format(self.file_format))\n",
    "\n",
    "class AudioBook(Book):\n",
    "    def __init__(self, title, author, isbn, duration : float):\n",
    "        super().__init__(title, author, isbn)\n",
    "        self.duration = duration\n",
    "\n",
    "    def borrow(self):\n",
    "        super().borrow()\n",
    "        if self.is_borrowed:\n",
    "            print(\"This audiobook is available for streaming. Duration: {} hours.\".format(self.duration))\n",
    "\n",
    "class User:\n",
    "    def __init__(self, user_id : str, name : str):\n",
    "        self.user_id = user_id\n",
    "        self.name = name\n",
    "        self._borrowed_books = []\n",
    "\n",
    "    def borrow_book(self, book):\n",
    "        if not book.is_borrowed:\n",
    "            book.borrow()\n",
    "            self._borrowed_books.append(book)\n",
    "        else:\n",
    "            print(\"Sorry, this book is currently unavailable.\")\n",
    "\n",
    "    def return_book(self, book):\n",
    "        if book in self._borrowed_books:\n",
    "            book.return_book()\n",
    "            self._borrowed_books.remove(book)\n",
    "        else:\n",
    "            print(\"This book is not borrowed by you.\")\n",
    "\n",
    "class Library:\n",
    "    def __init__(self, name : str):\n",
    "        self.name = name\n",
    "        self.books = []\n",
    "        self.users = []\n",
    "\n",
    "    def add_book(self, book):\n",
    "        self.books.append(book)\n",
    "\n",
    "    def register_user(self, user):\n",
    "        self.users.append(user)\n",
    "\n",
    "    def lend_book(self, user_id, isbn):\n",
    "        user = next((u for u in self.users if u.user_id == user_id), None)\n",
    "        book = next((b for b in self.books if b.isbn == isbn), None)\n",
    "        if user and book:\n",
    "            user.borrow_book(book)\n",
    "        else:\n",
    "            print(\"User or book not found.\")\n",
    "\n",
    "    def receive_return(self, user_id, isbn):\n",
    "        user = next((u for u in self.users if u.user_id == user_id), None)\n",
    "        book = next((b for b in self.books if b.isbn == isbn), None)\n",
    "        if user and book:\n",
    "            user.return_book(book)\n",
    "        else:\n",
    "            print(\"User or book not found.\")\n"
   ]
  },
  {
   "cell_type": "code",
   "execution_count": 48,
   "metadata": {},
   "outputs": [
    {
     "name": "stdout",
     "output_type": "stream",
     "text": [
      "This digital book can be accessed online in PDF format.\n"
     ]
    }
   ],
   "source": [
    "library0 = Library(\"My Lib\")\n",
    "book1 = Book(\"1984\", \"George Orwell\", \"1234\")\n",
    "book2 = DigitalBook(\"The Hobbit\", \"J.R.R. Tolkien\", \"5678\", \"PDF\")\n",
    "book3 = AudioBook(\"Becoming\", \"Michelle Obama\", \"91011\", 19.2)\n",
    "\n",
    "user1 = User(\"001\", \"Alice\")\n",
    "\n",
    "library0.add_book(book1)\n",
    "library0.add_book(book2)\n",
    "library0.add_book(book3)\n",
    "\n",
    "library0.register_user(user1)\n",
    "\n",
    "library0.lend_book(\"001\", \"5678\")\n",
    "library0.receive_return(\"001\", \"5678\")\n"
   ]
  },
  {
   "cell_type": "code",
   "execution_count": null,
   "metadata": {},
   "outputs": [],
   "source": []
  }
 ],
 "metadata": {
  "kernelspec": {
   "display_name": "Python 3",
   "language": "python",
   "name": "python3"
  },
  "language_info": {
   "codemirror_mode": {
    "name": "ipython",
    "version": 3
   },
   "file_extension": ".py",
   "mimetype": "text/x-python",
   "name": "python",
   "nbconvert_exporter": "python",
   "pygments_lexer": "ipython3",
   "version": "3.12.5"
  }
 },
 "nbformat": 4,
 "nbformat_minor": 2
}
